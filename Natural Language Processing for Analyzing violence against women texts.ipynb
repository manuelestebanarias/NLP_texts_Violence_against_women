{
 "cells": [
  {
   "cell_type": "markdown",
   "metadata": {},
   "source": [
    "# Natural Language Processing for Analyzing violence against women texts"
   ]
  },
  {
   "cell_type": "markdown",
   "metadata": {},
   "source": [
    "By Manuel Esteban Arias"
   ]
  },
  {
   "cell_type": "markdown",
   "metadata": {},
   "source": [
    "Note: make sure that the documents have the following names:\n",
    "  * \"Essor\".\n",
    "  * \"https-__www.un.org_fr_observances_ending-violence-against-women\".\n",
    "  * \"La Federation nationale solidarite Femmes a analyse les donnees du 3919\".\n",
    "  * \"Les mesures de protection pouvant etre prises par le juge civil\".\n",
    "  * \"SEVE_044_0093\".\n",
    "  * \"Violences faites aux femmes\"."
   ]
  },
  {
   "cell_type": "code",
   "execution_count": 170,
   "metadata": {},
   "outputs": [
    {
     "name": "stderr",
     "output_type": "stream",
     "text": [
      "[nltk_data] Downloading package stopwords to\n",
      "[nltk_data]     C:\\Users\\manue\\AppData\\Roaming\\nltk_data...\n",
      "[nltk_data]   Package stopwords is already up-to-date!\n"
     ]
    }
   ],
   "source": [
    "import PyPDF2\n",
    "import re\n",
    "from docx2python import docx2python\n",
    "from striprtf.striprtf import rtf_to_text\n",
    "import requests\n",
    "from bs4 import BeautifulSoup\n",
    "import nltk\n",
    "from nltk.probability import FreqDist\n",
    "from nltk.corpus import stopwords\n",
    "nltk.download('stopwords')\n",
    "from nltk.tokenize import word_tokenize\n",
    "from wordcloud import WordCloud\n",
    "import matplotlib.pyplot as plt\n",
    "from textblob import TextBlob"
   ]
  },
  {
   "cell_type": "markdown",
   "metadata": {},
   "source": [
    "## 1.Data import and Cleaning"
   ]
  },
  {
   "cell_type": "markdown",
   "metadata": {},
   "source": [
    "#### 1.1 PDFs import"
   ]
  },
  {
   "cell_type": "code",
   "execution_count": 171,
   "metadata": {},
   "outputs": [],
   "source": [
    "#11:Essor\n",
    "pdf1 = open('C:/Users/manue/Downloads/femmes/Essor.pdf', mode='rb')\n",
    "pdf1 = PyPDF2.PdfReader(pdf1)\n",
    "pdf1_pages = len(pdf1.pages)\n",
    "pdf11=[]\n",
    "for i in range(pdf1_pages):\n",
    "    pageObj = pdf1.pages[i]\n",
    "    pdf11.append(pageObj.extract_text())\n",
    "\n",
    "pdf11=\" \".join(str(x) for x in pdf11)\n",
    "#We don't need the bibliography\n",
    "text1 = pdf11.split(\"29Adler F., 1975,\", 1)[0]\n",
    "# cleaning  special characters\n",
    "text1= re.sub('\\n', '', text1)"
   ]
  },
  {
   "cell_type": "code",
   "execution_count": 172,
   "metadata": {},
   "outputs": [],
   "source": [
    "#12: SEVE_044_0093\n",
    "pdf2 = open('C:/Users/manue/Downloads/femmes/SEVE_044_0093.pdf', mode='rb')\n",
    "pdf2 = PyPDF2.PdfReader(pdf2)\n",
    "pdf2_pages = len(pdf2.pages)-1\n",
    "#we don't need the frist page\n",
    "\n",
    "pdf12=[]\n",
    "for i in range(pdf2_pages):\n",
    "    pageObj = pdf2.pages[1+ i]\n",
    "    pdf12.append(pageObj.extract_text())\n",
    "pdf12=\" \".join(str(x) for x in pdf12)\n",
    "# cleaning  special characters\n",
    "text2= re.sub('\\n', '', pdf12)"
   ]
  },
  {
   "cell_type": "code",
   "execution_count": 173,
   "metadata": {},
   "outputs": [],
   "source": [
    "#13: Suis-je concernees\n",
    "pdf3 = open('C:/Users/manue/Downloads/femmes/Suis-je concernees.pdf', mode='rb')\n",
    "pdf3 = PyPDF2.PdfReader(pdf3)\n",
    "pdf3_pages = len(pdf3.pages)\n",
    "\n",
    "pdf13=[]\n",
    "for i in range(pdf3_pages):\n",
    "    pageObj = pdf3.pages[i]\n",
    "    pdf13.append(pageObj.extract_text())\n",
    "pdf13=\" \".join(str(x) for x in pdf13)\n",
    "# cleaning special characters\n",
    "text3= re.sub('\\n', '', pdf13)"
   ]
  },
  {
   "cell_type": "code",
   "execution_count": 174,
   "metadata": {},
   "outputs": [],
   "source": [
    "#14: femmes/Violences faites aux femmes\n",
    "pdf4 = open('C:/Users/manue/Downloads/femmes/Violences faites aux femmes.pdf', mode='rb')\n",
    "pdf4 = PyPDF2.PdfReader(pdf4)\n",
    "pdf4_pages = len(pdf4.pages)\n",
    "\n",
    "pdf14=[]\n",
    "for i in range(pdf4_pages):\n",
    "    pageObj = pdf4.pages[i]\n",
    "    pdf14.append(pageObj.extract_text())\n",
    "pdf14=\" \".join(str(x) for x in pdf14)\n",
    "# cleaning  special characters\n",
    "text4= re.sub('\\n', '', pdf14)"
   ]
  },
  {
   "cell_type": "markdown",
   "metadata": {},
   "source": [
    "#### 1.2 Words import"
   ]
  },
  {
   "cell_type": "code",
   "execution_count": 175,
   "metadata": {},
   "outputs": [],
   "source": [
    "with docx2python('C:/Users/manue/Downloads/femmes/La Federation nationale solidarite Femmes a analyse les donnees du 3919.docx') as docx1:\n",
    "    docx15=docx1.text\n",
    "# cleaning special characters\n",
    "docx15= re.sub('\\n', '', docx15)\n",
    "docx15= re.sub('\\xa0', \"'\", docx15)\n",
    "text5=re.sub(\"[\\<\\[].*?[\\>\\]]\", \"\", docx15)"
   ]
  },
  {
   "cell_type": "code",
   "execution_count": 176,
   "metadata": {},
   "outputs": [],
   "source": [
    "with docx2python('C:/Users/manue/Downloads/femmes/Les mesures de protection pouvant etre prises par le juge civil.docx') as docx2:\n",
    "    docx16=docx2.text\n",
    "# cleaning  special characters\n",
    "docx16=re.sub(\"[\\<\\[].*?[\\>\\]]\", \"\", docx16)\n",
    "docx16= re.sub('\\n', '', docx16)\n",
    "docx16= re.sub('\\t', '', docx16)\n",
    "docx16= re.sub(\"d\\'\", \"d'\", docx16)\n",
    "docx16= re.sub(\"l\\'\", \"l'\", docx16)\n",
    "text6= re.sub('\\xa0', \"'\", docx16)"
   ]
  },
  {
   "cell_type": "markdown",
   "metadata": {},
   "source": [
    "#### 1.3 Rtf Import"
   ]
  },
  {
   "cell_type": "code",
   "execution_count": 177,
   "metadata": {},
   "outputs": [],
   "source": [
    "#16: https-__www.un.org_fr_observances_ending-violence-against-women.rtf\n",
    "with open('C:/Users/manue/Downloads/femmes/https-__www.un.org_fr_observances_ending-violence-against-women.rtf', 'r') as file:\n",
    "        content = file.read()\n",
    "        content1=re.findall(r'\\b((?:https?://)?(?:(?:www\\.)?(?:[\\da-z\\.-]+)\\.(?:[a-z]{2,6})|(?:(?:25[0-5]|2[0-4][0-9]|[01]?[0-9][0-9]?)\\.){3}(?:25[0-5]|2[0-4][0-9]|[01]?[0-9][0-9]?)|(?:(?:[0-9a-fA-F]{1,4}:){7,7}[0-9a-fA-F]{1,4}|(?:[0-9a-fA-F]{1,4}:){1,7}:|(?:[0-9a-fA-F]{1,4}:){1,6}:[0-9a-fA-F]{1,4}|(?:[0-9a-fA-F]{1,4}:){1,5}(?::[0-9a-fA-F]{1,4}){1,2}|(?:[0-9a-fA-F]{1,4}:){1,4}(?::[0-9a-fA-F]{1,4}){1,3}|(?:[0-9a-fA-F]{1,4}:){1,3}(?::[0-9a-fA-F]{1,4}){1,4}|(?:[0-9a-fA-F]{1,4}:){1,2}(?::[0-9a-fA-F]{1,4}){1,5}|[0-9a-fA-F]{1,4}:(?:(?::[0-9a-fA-F]{1,4}){1,6})|:(?:(?::[0-9a-fA-F]{1,4}){1,7}|:)|fe80:(?::[0-9a-fA-F]{0,4}){0,4}%[0-9a-zA-Z]{1,}|::(?:ffff(?::0{1,4}){0,1}:){0,1}(?:(?:25[0-5]|(?:2[0-4]|1{0,1}[0-9]){0,1}[0-9])\\.){3,3}(?:25[0-5]|(?:2[0-4]|1{0,1}[0-9]){0,1}[0-9])|(?:[0-9a-fA-F]{1,4}:){1,4}:(?:(?:25[0-5]|(?:2[0-4]|1{0,1}[0-9]){0,1}[0-9])\\.){3,3}(?:25[0-5]|(?:2[0-4]|1{0,1}[0-9]){0,1}[0-9])))(?::[0-9]{1,4}|[1-5][0-9]{4}|6[0-4][0-9]{3}|65[0-4][0-9]{2}|655[0-2][0-9]|6553[0-5])?(?:/[\\w\\.-]*)*/?)\\b',\n",
    "                         content)\n",
    "rtf=content1[0]     "
   ]
  },
  {
   "cell_type": "markdown",
   "metadata": {},
   "source": [
    "We can see that it is a link, we will now extract the information out of it"
   ]
  },
  {
   "cell_type": "code",
   "execution_count": 178,
   "metadata": {},
   "outputs": [],
   "source": [
    "#scraping the link\n",
    "headers = { 'User-Agent': 'Mozilla/5.0 (Windows NT 10.0; Win64; x64) AppleWebKit/537.36 (KHTML, like Gecko) Chrome/107.0.0.0 Safari/537.36\"',\n",
    "    'Accept-Language': 'es-ES,es;q=0.9,fr;q=0.8,it;q=0.7,en;q=0.6'} \n",
    "\n",
    "base_url =rtf\n",
    "response = requests.get(base_url, headers=headers)# get the code of each page of the search\n",
    "soup = BeautifulSoup(response.content, 'html.parser')#read the code in python\n",
    "result = soup.find('div',{'class':\"col-lg-8\"}) #get blocks of information \n",
    "rft_1=str(result)"
   ]
  },
  {
   "cell_type": "code",
   "execution_count": 179,
   "metadata": {},
   "outputs": [],
   "source": [
    "#taking away everything between \"<\" and \">\"\n",
    "rft_1=re.sub(\"[\\<\\[].*?[\\>\\]]\", \"\", rft_1)\n",
    "# cleaning  special characters\n",
    "rft_1= re.sub('[\\n]', '', rft_1)\n",
    "text7= re.sub('[\\xa0]', \"'\", rft_1)"
   ]
  },
  {
   "cell_type": "markdown",
   "metadata": {},
   "source": [
    "### 1.4 Summing all the texts"
   ]
  },
  {
   "cell_type": "code",
   "execution_count": 180,
   "metadata": {},
   "outputs": [],
   "source": [
    "text8=''.join([text1,text2,text3,text4,text5,text6,text7])"
   ]
  },
  {
   "cell_type": "markdown",
   "metadata": {},
   "source": [
    "Sumarizing, we have:\n",
    "<ol>\n",
    "    <li>pdf_11 -> text1</li>\n",
    "    <li>pdf_12 -> text2</li>\n",
    "    <li>pdf_13 -> text3</li>\n",
    "    <li>pdf_14 -> text4</li>\n",
    "    <li>docx_15-> text5</li>\n",
    "    <li>docx_16-> text6</li>\n",
    "    <li>rft_1  -> text7</li>\n",
    "    <li>all    -> text8</li>\n",
    "</ol>"
   ]
  },
  {
   "cell_type": "markdown",
   "metadata": {},
   "source": [
    "### 1.5 Tokenizing"
   ]
  },
  {
   "cell_type": "code",
   "execution_count": 181,
   "metadata": {},
   "outputs": [],
   "source": [
    "words1 = nltk.word_tokenize(text1)\n",
    "words2 = nltk.word_tokenize(text2)\n",
    "words3 = nltk.word_tokenize(text3)\n",
    "words4 = nltk.word_tokenize(text4)\n",
    "words5 = nltk.word_tokenize(text5)\n",
    "words6 = nltk.word_tokenize(text6)\n",
    "words7 = nltk.word_tokenize(text7)\n",
    "words8 = nltk.word_tokenize(text8)"
   ]
  },
  {
   "cell_type": "code",
   "execution_count": 182,
   "metadata": {},
   "outputs": [],
   "source": [
    "# Tokenize the string into words\n",
    "text_1 = nltk.Text(words1)\n",
    "text_2 = nltk.Text(words2)\n",
    "text_3 = nltk.Text(words3)\n",
    "text_4 = nltk.Text(words4)\n",
    "text_5 = nltk.Text(words5)\n",
    "text_6 = nltk.Text(words6)\n",
    "text_7 = nltk.Text(words7)\n",
    "text_8 = nltk.Text(words8)"
   ]
  },
  {
   "cell_type": "markdown",
   "metadata": {},
   "source": [
    "## 2. Working vocabulary"
   ]
  },
  {
   "cell_type": "markdown",
   "metadata": {},
   "source": [
    "#### 2.1 An easy approach to the suspected main words: Femmes and Violence"
   ]
  },
  {
   "cell_type": "code",
   "execution_count": 183,
   "metadata": {},
   "outputs": [
    {
     "name": "stdout",
     "output_type": "stream",
     "text": [
      "victimes années travaux filles hommes recherches violences mythes\n",
      "droits sécurité recherche études ouvrages cas mères savoirs\n",
      "changements réponses faits associations\n"
     ]
    }
   ],
   "source": [
    "# similarities\n",
    "text_8.similar(\"femmes\")"
   ]
  },
  {
   "cell_type": "code",
   "execution_count": 184,
   "metadata": {},
   "outputs": [
    {
     "name": "stdout",
     "output_type": "stream",
     "text": [
      "criminalité déviance france délinquance situation victime formation\n",
      "recherche en est vivacité trentaine réunir genre place sexualité\n",
      "police politique criminologie violences\n"
     ]
    }
   ],
   "source": [
    "# similarities\n",
    "text_8.similar(\"violence\")"
   ]
  },
  {
   "cell_type": "markdown",
   "metadata": {},
   "source": [
    "When the similarities are verified, the word \"femmes\" is often linked with victimes,violence right and security suggesting the occurrence is the text is often linked to any kind of harm of their dignity, with violence. When this word is verified , the sexual and political violences are highlighted. Let's analyse the word on its context now."
   ]
  },
  {
   "cell_type": "code",
   "execution_count": 185,
   "metadata": {},
   "outputs": [
    {
     "name": "stdout",
     "output_type": "stream",
     "text": [
      "Displaying 25 of 218 matches:\n",
      "La violence des femmes : un champ de recherche en plein es\n",
      "/champpenal.8102 Si la violence des femmes est restée longtemps ignorée , elle\n",
      "iences humaines sur la violence des femmes , nous avons reçu plus d ’ une tren\n",
      "mis de légitimer les études sur les femmes violentes . 3Afin de rendre compte \n",
      "rches actuelles sur la violence des femmes en h istoire , sociologie , science\n",
      "abord porté sur l ’ enfermement des femmes 2 . À ce propos , Michelle Perrot a\n",
      " enfermement et de l ’ histoire des femmes . Comme le rappelle Philippe Artièr\n",
      "raphies sur les établissements pour femmes . Ainsi , dès 1982 , Claudie Leseli\n",
      " , soutient une thèse intitulée Les femmes et la prison , 1815 -1939 . Cette p\n",
      "à l ’ enfermement pénitentiaire des femmes de 1945 -1970 . Notons qu ’ aucune \n",
      "ement été publiée . La déviance des femmes dans l ’ entre -deux-guerres ( Leve\n",
      "ux-guerres ( Levesque 1989 ) et les femmes bagnardes ( Krakovit ch , 1998 ) se\n",
      "alyse non seulement les liens entre femmes , folie et enfermement au XIXesiècl\n",
      " 2010 ) . 6Sur la participation des femmes à la violence et la r eprésentation\n",
      "ussi des études spécifiques sur des femmes meurtrières , comme Violette Nozièr\n",
      "( Demartini et alii , 2002 ) ou des femmes scandaleuses comme Violette Morris \n",
      " ’ histoire de la participation des femmes à la violence politique , on évoque\n",
      "française ( Godineau , 1988 ) , les femmes engagées dans la contre -révolution\n",
      "llin , 1988 ; Nemeth , 2002 ) , les femmes nazies ( Stephenson , 1981 ; Kandel\n",
      "es travaux sur la participation des femmes aux institutions en charge de la « \n",
      "ndiales et transhistoriques sur les femmes dans l ’ armée ( Caire , 1981 ; Gol\n",
      "rc ( Duby & Duby , 1995 ) , sur les femmes d e pouvoir sous l ’ Ancien Régime \n",
      "gime ( Haase -Dubosc , 1991 ) , les femmes soldats travesties ( Steinberg 2000\n",
      "travesties ( Steinberg 2000 ) , les femmes au combat pendant la Seconde Guerre\n",
      "les travaux cités , la violence des femmes est le plus souvent abordée à la ma\n"
     ]
    }
   ],
   "source": [
    "# Concordances\n",
    "text_8.concordance(\"femmes\")"
   ]
  },
  {
   "cell_type": "markdown",
   "metadata": {},
   "source": [
    "In this case, we can see that the word \"femmes' 'has concordance suggesting an analysis about the historical role of women in social changes in the first text, In the second one, the   relationship with men, and a notion of inequality and submission are highlighted. The 4th text links directly the word femme with the violence.The fifth highlights the words victims and death associated text 7 includes the girls right, a relevant part of the problem. "
   ]
  },
  {
   "cell_type": "code",
   "execution_count": 186,
   "metadata": {},
   "outputs": [
    {
     "name": "stdout",
     "output_type": "stream",
     "text": [
      "Displaying 25 of 90 matches:\n",
      "La violence des femmes : un champ de recherche\n",
      ".org/10.4000/champpenal.8102 Si la violence des femmes est restée longtemps ig\n",
      "sque incontournable d ’ évoquer la violence féminine dans un numéro consacré à\n",
      "nine dans un numéro consacré à l a violence , comme en témoigne la récente par\n",
      "s consacrée à la description de la violence ( Roussel , 2010 ) . Signe de la v\n",
      "erches en sciences humaines sur la violence des femmes , nous avons reçu plus \n",
      "al des recherches actuelles sur la violence des femmes en h istoire , sociolog\n",
      "e du spectre des violences – de la violence politique à la violence d ’ État ,\n",
      "es – de la violence politique à la violence d ’ État , de la violence domestiq\n",
      "que à la violence d ’ État , de la violence domestique à la criminalité , du s\n",
      "r la participation des femmes à la violence et la r eprésentation historiograp\n",
      "ntation historiographique de cette violence , certains travaux se sont intéres\n",
      "ours ) . D ’ autres portent sur la violence intrafamiliale comme l ’ infantici\n",
      "e la participation des femmes à la violence politique , on évoquera les « évid\n",
      "a , 2005 ) , Germaine Berton et la violence politique sous la Troisième Républ\n",
      "isation de la criminalité et de la violence politique , les travaux sur la par\n",
      "aux institutions en charge de la « violence légitime » selon la formule de Max\n",
      "8 ) . 9Dans les travaux cités , la violence des femmes est le plus souvent abo\n",
      "et synthétiques qui traitent de la violence des femmes . L ’ ouvrage coordonné\n",
      "ette Farge et Cécile Dauphin De la violence et des femm es ( 1997 ) inaugure c\n",
      "étique , uniquement centrée sur la violence des femmes , à l ’ échelle europée\n",
      "s , à l ’ échelle européenne de la violence féminine , du duel au travestissem\n",
      "nine et de leur participation à la violence politique de l ’ Antiquité à nos j\n",
      "que interdisciplinaire « Penser la violence des femmes » à Paris qui a réuni p\n",
      " sur l ’ entrée des femmes dans la violence légale et illégale ( Cardi , Pruvo\n"
     ]
    }
   ],
   "source": [
    "# Concordances\n",
    "text_8.concordance(\"Violence\")"
   ]
  },
  {
   "cell_type": "markdown",
   "metadata": {},
   "source": [
    "In the other, the text 1 suggests a violence of different types: from the state, political,legal and intrafamiliar from one side, but also describes the role of women in the execution of the violence itself. In the second text the violence is characterized as domestic, sexual or psychological and introduces a social role and its control: denouncing becomes an important act. The 7th text targets the elimination of the violence against women as the main goal."
   ]
  },
  {
   "cell_type": "markdown",
   "metadata": {},
   "source": [
    "#### 2.2 Finding key words"
   ]
  },
  {
   "cell_type": "markdown",
   "metadata": {},
   "source": [
    "Now, let's look for more key words"
   ]
  },
  {
   "cell_type": "markdown",
   "metadata": {},
   "source": [
    "##### 2.2.0  Uncommon words"
   ]
  },
  {
   "cell_type": "code",
   "execution_count": 187,
   "metadata": {},
   "outputs": [
    {
     "data": {
      "text/plain": [
       "['plein',\n",
       " 'Bibliographie',\n",
       " 'commentée',\n",
       " 'Geneviève',\n",
       " 'https//doiorg/104000/champpenal8102',\n",
       " 'restée',\n",
       " 'ignorée',\n",
       " 'pleine',\n",
       " 'expansion',\n",
       " 'recluse',\n",
       " 'bagnarde',\n",
       " 'criminelle',\n",
       " 'délinquante',\n",
       " 'hystérique',\n",
       " 'soldate',\n",
       " 'policière',\n",
       " 'révolutionnaire',\n",
       " 'sombres',\n",
       " 'bel',\n",
       " 'sorties']"
      ]
     },
     "execution_count": 187,
     "metadata": {},
     "output_type": "execute_result"
    }
   ],
   "source": [
    "#How to get words that occure once only?\n",
    "hapaxes1=fdist2.hapaxes()\n",
    "hapaxes1[:20]"
   ]
  },
  {
   "cell_type": "markdown",
   "metadata": {},
   "source": [
    "The words that appears only once in the text apparts from the core topic a bit. Terms like 'ignorée' and 'restée' may be describing a long term status of the violence and women relationship. As well, words like 'criminelle', 'délinquante' or 'policière' describe the legal consequences associated with the occurrence of violent acts, confirming the intuitions about the text topics."
   ]
  },
  {
   "cell_type": "markdown",
   "metadata": {},
   "source": [
    "##### 2.2.1  Most common words"
   ]
  },
  {
   "cell_type": "code",
   "execution_count": 188,
   "metadata": {},
   "outputs": [
    {
     "data": {
      "text/plain": [
       "FreqDist({' ': 11765, 'e': 8691, 's': 4872, 'i': 4075, 'n': 4062, 't': 3766, 'a': 3705, 'r': 3398, 'l': 3197, 'o': 3145, ...})"
      ]
     },
     "execution_count": 188,
     "metadata": {},
     "output_type": "execute_result"
    }
   ],
   "source": [
    "# Word repetintion\n",
    "fdist1=FreqDist(text8)\n",
    "fdist1"
   ]
  },
  {
   "cell_type": "markdown",
   "metadata": {},
   "source": [
    "Too much stop words, let's try to take them away!"
   ]
  },
  {
   "cell_type": "code",
   "execution_count": 189,
   "metadata": {},
   "outputs": [],
   "source": [
    "#Removing the stop words\n",
    "text_tokens= re.sub(\"[',','.',':',';','(',')','«','»']\", '', text8)\n",
    "text_tokens = word_tokenize(text_tokens)\n",
    "tokens_without_sw = [word for word in text_tokens if not word in stopwords.words('french')]"
   ]
  },
  {
   "cell_type": "code",
   "execution_count": 190,
   "metadata": {},
   "outputs": [
    {
     "data": {
      "text/plain": [
       "FreqDist({'’': 478, 'femmes': 209, 'violences': 96, 'violence': 90, 'a': 41, 'victimes': 36, 'plus': 34, 'contre': 32, 'faites': 31, 'La': 27, ...})"
      ]
     },
     "execution_count": 190,
     "metadata": {},
     "output_type": "execute_result"
    }
   ],
   "source": [
    "fdist2=FreqDist(tokens_without_sw)\n",
    "fdist2"
   ]
  },
  {
   "cell_type": "code",
   "execution_count": 191,
   "metadata": {},
   "outputs": [
    {
     "data": {
      "image/png": "[encoded data removed]",
      "text/plain": [
       "<Figure size 432x288 with 1 Axes>"
      ]
     },
     "metadata": {
      "needs_background": "light"
     },
     "output_type": "display_data"
    },
    {
     "data": {
      "text/plain": [
       "<AxesSubplot:xlabel='Samples', ylabel='Cumulative Counts'>"
      ]
     },
     "execution_count": 191,
     "metadata": {},
     "output_type": "execute_result"
    }
   ],
   "source": [
    "#cumulative frecuency of the 50 most frequently used words\n",
    "fdist2.plot(50,cumulative=True)"
   ]
  },
  {
   "cell_type": "markdown",
   "metadata": {},
   "source": [
    "When the word count is made, we can see that indeed the word \"femmes\" and \"violence\" are the most common ones.This, however, is not a surprise given the titles of the texts and the main topic they talk about. Further, other words like \"victimes\", \"sexualité\", \"politique\" and \"crime\" confirm the intuitions from the concordance instruction. As  so we start to see that text describes the relation between violence and women and the role of society in the setting of this relationship."
   ]
  },
  {
   "cell_type": "code",
   "execution_count": 192,
   "metadata": {},
   "outputs": [
    {
     "data": {
      "text/plain": [
       "['-union_6158335_3232html',\n",
       " '201494dossierLes',\n",
       " '201495dossierViolences',\n",
       " '201496dossierLes',\n",
       " '201497dossierViolences',\n",
       " '201498dossierLes',\n",
       " '8Comparativement',\n",
       " 'CAMPAGNEPourquoi',\n",
       " 'Ined-Inserm-ANRS',\n",
       " 'Masculin/Féminin',\n",
       " 'Seine-Saint-Denis',\n",
       " 'agressives…Elles',\n",
       " 'anthropologiques',\n",
       " 'anti-rapprochement',\n",
       " 'bibliographiques',\n",
       " 'caractéristiques',\n",
       " 'contactSophieSIMON',\n",
       " 'cyber-harcèlement',\n",
       " 'cybersurveillance',\n",
       " 'dAuvergne-Rhône-Alpes',\n",
       " 'dévalorisations…',\n",
       " 'fillesParallèlement',\n",
       " 'historiographique',\n",
       " 'https//doiorg/104000/champpenal8102',\n",
       " 'https//wwwlemondefr/idees/article/2023/01/18/vi',\n",
       " 'individualisée/psychologisée',\n",
       " 'infranchissables',\n",
       " 'institutionnalisation',\n",
       " 'institutionnelle',\n",
       " 'interculturelles',\n",
       " 'interdisciplinai',\n",
       " 'interdisciplinaire',\n",
       " 'interministériel',\n",
       " 'interministérielle',\n",
       " 'interprèteAttention',\n",
       " 'intersectionnalité',\n",
       " 'interuniversitaire',\n",
       " 'juridictionnelle',\n",
       " 'miprofgouvfrSophie',\n",
       " 'naturalisée/sexualisée',\n",
       " 'particulièrement',\n",
       " 'plusEnsemble12110190769090826552673119252423Champ',\n",
       " 'problématisation',\n",
       " 'professionnelles',\n",
       " 'précoceLaDéclaration',\n",
       " 'psycho-traumatiques',\n",
       " 'psychologisation',\n",
       " 'responsabilisation',\n",
       " 'régionalesSolidarité',\n",
       " 'révolutionnaires',\n",
       " 'stop-violence-femmesgouvfr©',\n",
       " 'transhistoriques']"
      ]
     },
     "execution_count": 192,
     "metadata": {},
     "output_type": "execute_result"
    }
   ],
   "source": [
    "#how to get long word?\n",
    "V = set(tokens_without_sw)\n",
    "long_words=[w for w in V if len(w) > 15]\n",
    "sorted(long_words)"
   ]
  },
  {
   "cell_type": "markdown",
   "metadata": {},
   "source": [
    "Among these high frequency words, the long ones highlight new subtopics around the text, new \"environments\" in which the violence may be taking place: as \"cyber-space\". As well it highlights a derivation from the word Psychology suggesting the discussions about the physiological impact of the violence."
   ]
  },
  {
   "cell_type": "markdown",
   "metadata": {},
   "source": [
    "In sum, we will focus on the next words:\n",
    "<ol>\n",
    "    <li>Femmes</li>\n",
    "    <li>Violence</li>\n",
    "    <li>Victime</li>\n",
    "    <li>Politique</li>\n",
    "    <li>Psychology</li>\n",
    "</ol>"
   ]
  },
  {
   "cell_type": "markdown",
   "metadata": {},
   "source": [
    "#### 2.3  Word cohincidence "
   ]
  },
  {
   "cell_type": "code",
   "execution_count": 193,
   "metadata": {},
   "outputs": [
    {
     "data": {
      "image/png": "[encoded data removed]",
      "text/plain": [
       "<Figure size 432x288 with 1 Axes>"
      ]
     },
     "metadata": {
      "needs_background": "light"
     },
     "output_type": "display_data"
    }
   ],
   "source": [
    "#How to get a prositional ninformaiton of a word in a text?\n",
    "text_8.dispersion_plot([\"femmes\",\"violence\",\"victimes\",\"hommes\",\"politique\", \"psycho\",\"sexualité\",\"crime\",\"cyber\"])"
   ]
  },
  {
   "cell_type": "markdown",
   "metadata": {},
   "source": [
    "As expected, knowing that this texts speacks about the women, the word femmes papprers all along the text, whoever, it appearens is often linked ot the word violence, that apprears with a preocuppating simunltanity.This Relationship wolds for the word Victimes> Never the less, it is important to see that the words victime and violence are substitutes. In this sense we can conclude that in general, the violence is victimizing women ( with would explain also the hig frequency of the preoposition \"contre\")."
   ]
  },
  {
   "cell_type": "code",
   "execution_count": 194,
   "metadata": {},
   "outputs": [],
   "source": [
    "#Stemming\n",
    "tokens_without_sw_stem=[]\n",
    "stemmer = FrenchStemmer()\n",
    "for n in range(len(tokens_without_sw)):\n",
    "    stemmy=stemmer.stem(tokens_without_sw[n])\n",
    "    tokens_without_sw_stem.append(stemmy)"
   ]
  },
  {
   "cell_type": "code",
   "execution_count": 195,
   "metadata": {},
   "outputs": [],
   "source": [
    "#lemming\n",
    "from nltk import WordNetLemmatizer\n",
    "lemmatizer = WordNetLemmatizer()\n",
    "words = tokens_without_sw_stem\n",
    "tokens_without_sw_lemm=[]\n",
    "for word in words:\n",
    "    lemmy=lemmatizer.lemmatize(word)\n",
    "    tokens_without_sw_lemm.append(lemmy)    "
   ]
  },
  {
   "cell_type": "markdown",
   "metadata": {},
   "source": [
    "#### 2.4 Context analysis of keywords"
   ]
  },
  {
   "cell_type": "code",
   "execution_count": 206,
   "metadata": {},
   "outputs": [],
   "source": [
    "# Load the text in French\n",
    "text = \" \".join(tokens_without_sw_stem)\n",
    "tok_text=nltk.Text(text)"
   ]
  },
  {
   "cell_type": "code",
   "execution_count": 212,
   "metadata": {},
   "outputs": [
    {
     "name": "stdout",
     "output_type": "stream",
     "text": [
      "des femmes; faites aux; violences faites; lutte contre; aux femmes;\n",
      "les femmes; égard des; 20/01/2023 sur; sur www.cairn.info; sur les;\n",
      "les violences; contre les; vio -lences; des droits; des filles;\n",
      "violences conjugales; des violences; affaires familiales; l'égard des;\n",
      "par rapport\n"
     ]
    }
   ],
   "source": [
    "#and colocations(setings of two word that , in case one if remplaced by the other, the expression wil change its sense)?\n",
    "text_8.collocations()"
   ]
  },
  {
   "cell_type": "markdown",
   "metadata": {},
   "source": [
    "The context analysis, starting buy the binary collocations,does not give useful. Let's chekck the similarities"
   ]
  },
  {
   "cell_type": "code",
   "execution_count": 43,
   "metadata": {},
   "outputs": [
    {
     "name": "stdout",
     "output_type": "stream",
     "text": [
      "victimes années travaux filles hommes recherches violences mythes\n",
      "droits sécurité recherche études ouvrages cas mères savoirs\n",
      "changements réponses faits associations\n"
     ]
    }
   ],
   "source": [
    "text_8.similar(\"femmes\")"
   ]
  },
  {
   "cell_type": "code",
   "execution_count": 44,
   "metadata": {},
   "outputs": [
    {
     "name": "stdout",
     "output_type": "stream",
     "text": [
      "criminalité déviance france délinquance situation victime formation\n",
      "recherche en est vivacité trentaine réunir genre place sexualité\n",
      "police politique criminologie violences\n"
     ]
    }
   ],
   "source": [
    "text_8.similar(\"violence\")"
   ]
  },
  {
   "cell_type": "code",
   "execution_count": 45,
   "metadata": {},
   "outputs": [
    {
     "name": "stdout",
     "output_type": "stream",
     "text": [
      "violence criminologie cause santé prévention sensibilisation à revue\n",
      "description france par police justice sociologie criminalité pas\n",
      "naissance déviance problématisation question\n"
     ]
    }
   ],
   "source": [
    "text_8.similar(\"victime\")"
   ]
  },
  {
   "cell_type": "code",
   "execution_count": 46,
   "metadata": {},
   "outputs": [
    {
     "name": "stdout",
     "output_type": "stream",
     "text": [
      "violence en trentaine domestique série contre situation prise\n",
      "tentative batterie mobilisation proposition ordonnance augmentation\n"
     ]
    }
   ],
   "source": [
    "text_8.similar(\"Politique\")"
   ]
  },
  {
   "cell_type": "markdown",
   "metadata": {},
   "source": [
    "The similarity search, in contrast, suggests that while the word femmes is highly associated with the concepts of violence and \"victims\" once again the word filles is associated, suggesting that, whatever is happening it affects as well the girls. \n",
    "The violence word, as expected, is linked to delinquency or crime, but also sets the emplacement of it: Gender, sexuality, politics.\n",
    "The similarities for the words victime and politique are not helping.\n",
    "It is worth to mention that the search highlights one of the ethical problems of the NLP: Femmes is associated with \"meres\" Nevertheless this association can take sense recalling that intra households similar words were highlighted in the word-count.This may suggest some kind of violence inside the household affecting directly mothers."
   ]
  },
  {
   "cell_type": "markdown",
   "metadata": {},
   "source": [
    "## 3. Wordcloud"
   ]
  },
  {
   "cell_type": "code",
   "execution_count": 129,
   "metadata": {},
   "outputs": [
    {
     "data": {
      "image/png": "[encoded data removed]",
      "text/plain": [
       "<Figure size 720x360 with 1 Axes>"
      ]
     },
     "metadata": {
      "needs_background": "light"
     },
     "output_type": "display_data"
    }
   ],
   "source": [
    "\n",
    "# Create a WordCloud object with French settings\n",
    "wordcloud = WordCloud(background_color=\"white\", contour_color=\"gray\", contour_width=1, stopwords=set(), width=800, height=400, max_words=100).generate(text)\n",
    "\n",
    "# Plot the WordCloud\n",
    "plt.figure(figsize=(10, 5))\n",
    "plt.imshow(wordcloud, interpolation=\"bilinear\")\n",
    "plt.axis('off')\n",
    "plt.show()\n"
   ]
  },
  {
   "cell_type": "markdown",
   "metadata": {},
   "source": [
    "## 4. Sentiment Analysis"
   ]
  },
  {
   "cell_type": "code",
   "execution_count": 134,
   "metadata": {},
   "outputs": [
    {
     "name": "stdout",
     "output_type": "stream",
     "text": [
      "Sentiment Polarity: -0.03\n",
      "Sentiment: Negative\n"
     ]
    }
   ],
   "source": [
    "from textblob import TextBlob\n",
    "\n",
    "# Create a TextBlob object\n",
    "blob = TextBlob(text)\n",
    "\n",
    "# Get the sentiment polarity (-1 to 1, where -1 is negative and 1 is positive)\n",
    "sentiment_polarity = blob.sentiment.polarity\n",
    "\n",
    "# Print the sentiment polarity\n",
    "print(\"Sentiment Polarity: {:.2f}\".format(sentiment_polarity))\n",
    "\n",
    "# Determine the sentiment based on polarity threshold\n",
    "if sentiment_polarity > 0:\n",
    "    sentiment = \"Positive\"\n",
    "elif sentiment_polarity == 0:\n",
    "    sentiment = \"Neutral\"\n",
    "else:\n",
    "    sentiment = \"Negative\"\n",
    "\n",
    "# Print the sentiment\n",
    "print(\"Sentiment: {}\".format(sentiment))"
   ]
  },
  {
   "cell_type": "markdown",
   "metadata": {},
   "source": [
    "One of the most common analysis in NLP is the sentiment analysis. Whe whe run thi for the text as a whole, We can see that the added text expresses majoritarily negative feelings in the sentences they used. Given that we know that the main topic in these texts is the violence, it reveals that, globally, the violence is a phenomenon described a s negatives in the text. Nevertheless, the polarity is very close to 0, which means that a big part of the text is not necessarily describing the violence as negative. Let's evaluate the text individually to assess this thesis."
   ]
  },
  {
   "cell_type": "code",
   "execution_count": 223,
   "metadata": {},
   "outputs": [
    {
     "name": "stdout",
     "output_type": "stream",
     "text": [
      "text 1 :\n",
      "Sentiment Polarity for the word 'violence': 1.13\n",
      "Sentiment for the word 'violence': Positive\n",
      "text 2 :\n",
      "Sentiment Polarity for the word 'violence': 0.99\n",
      "Sentiment for the word 'violence': Positive\n",
      "text 3 :\n",
      "Sentiment Polarity for the word 'violence': 0.09\n",
      "Sentiment for the word 'violence': Positive\n",
      "text 4 :\n",
      "The word 'violence' does not occur in the input text.\n",
      "text 5 :\n",
      "Sentiment Polarity for the word 'violence': -0.13\n",
      "Sentiment for the word 'violence': Negative\n",
      "text 6 :\n",
      "The word 'violence' does not occur in the input text.\n",
      "text 7 :\n",
      "Sentiment Polarity for the word 'violence': -2.61\n",
      "Sentiment for the word 'violence': Negative\n"
     ]
    }
   ],
   "source": [
    "# Create a TextBlob object\n",
    "Textos=[text1,text2,text3,text4,text5,text6,text7]  \n",
    "x=0\n",
    "for t in Textos:\n",
    "    blob = TextBlob(t)\n",
    "    x=x+1\n",
    "    print(\"text\",x,\":\")\n",
    "    # Find occurrences of the word \"violence\" in the text\n",
    "    word = \"violence\"\n",
    "    word_count = blob.words.count(word)\n",
    "\n",
    "    if word_count > 0:\n",
    "        # Get the sentiment polarity for the word \"violence\"\n",
    "        word_polarity = sum([blob.sentiment.polarity for word in blob.words if word == \"violence\"])\n",
    "\n",
    "        # Print the sentiment polarity for the word \"violence\"\n",
    "        print(\"Sentiment Polarity for the word 'violence': {:.2f}\".format(word_polarity))\n",
    "\n",
    "        # Determine the sentiment based on polarity threshold\n",
    "        if word_polarity > 0:\n",
    "            sentiment = \"Positive\"\n",
    "        elif word_polarity == 0:\n",
    "            sentiment = \"Neutral\"\n",
    "        else:\n",
    "            sentiment = \"Negative\"\n",
    "\n",
    "        # Print the sentiment for the word \"violence\"\n",
    "        print(\"Sentiment for the word 'violence': {}\".format(sentiment))\n",
    "    else:\n",
    "        print(\"The word 'violence' does not occur in the input text.\")\n"
   ]
  },
  {
   "cell_type": "code",
   "execution_count": 225,
   "metadata": {},
   "outputs": [
    {
     "name": "stdout",
     "output_type": "stream",
     "text": [
      "text 1 :\n",
      "Sentiment Polarity for the word 'femmes': 2.06\n",
      "Sentiment for the word 'femmes': Positive\n",
      "text 2 :\n",
      "Sentiment Polarity for the word 'femmes': 5.09\n",
      "Sentiment for the word 'femmes': Positive\n",
      "text 3 :\n",
      "Sentiment Polarity for the word 'femmes': 0.28\n",
      "Sentiment for the word 'femmes': Positive\n",
      "text 4 :\n",
      "Sentiment Polarity for the word 'femmes': -1.47\n",
      "Sentiment for the word 'femmes': Negative\n",
      "text 5 :\n",
      "Sentiment Polarity for the word 'femmes': -0.67\n",
      "Sentiment for the word 'femmes': Negative\n",
      "text 6 :\n",
      "The word 'violence' does not occur in the input text.\n",
      "text 7 :\n",
      "Sentiment Polarity for the word 'femmes': -3.49\n",
      "Sentiment for the word 'femmes': Negative\n"
     ]
    }
   ],
   "source": [
    "# Create a TextBlob object\n",
    "Textos=[text1,text2,text3,text4,text5,text6,text7]  \n",
    "x=0\n",
    "for t in Textos:\n",
    "    blob = TextBlob(t)\n",
    "    x=x+1\n",
    "    print(\"text\",x,\":\")\n",
    "    # Find occurrences of the word \"violence\" in the text\n",
    "    word = \"femmes\"\n",
    "    word_count = blob.words.count(word)\n",
    "\n",
    "    if word_count > 0:\n",
    "        # Get the sentiment polarity for the word \"violence\"\n",
    "        word_polarity = sum([blob.sentiment.polarity for word in blob.words if word == \"femmes\"])\n",
    "\n",
    "        # Print the sentiment polarity for the word \"violence\"\n",
    "        print(\"Sentiment Polarity for the word 'femmes': {:.2f}\".format(word_polarity))\n",
    "\n",
    "        # Determine the sentiment based on polarity threshold\n",
    "        if word_polarity > 0:\n",
    "            sentiment = \"Positive\"\n",
    "        elif word_polarity == 0:\n",
    "            sentiment = \"Neutral\"\n",
    "        else:\n",
    "            sentiment = \"Negative\"\n",
    "\n",
    "        # Print the sentiment for the word \"violence\"\n",
    "        print(\"Sentiment for the word 'femmes': {}\".format(sentiment))\n",
    "    else:\n",
    "        print(\"The word 'violence' does not occur in the input text.\")\n"
   ]
  },
  {
   "cell_type": "code",
   "execution_count": 226,
   "metadata": {},
   "outputs": [
    {
     "name": "stdout",
     "output_type": "stream",
     "text": [
      "text 1 :\n",
      "Sentiment Polarity for the word 'victimes': 0.04\n",
      "Sentiment for the word 'victimes': Positive\n",
      "text 2 :\n",
      "Sentiment Polarity for the word 'victimes': 1.52\n",
      "Sentiment for the word 'victimes': Positive\n",
      "text 3 :\n",
      "Sentiment Polarity for the word 'victimes': 0.37\n",
      "Sentiment for the word 'victimes': Positive\n",
      "text 4 :\n",
      "Sentiment Polarity for the word 'victimes': -0.65\n",
      "Sentiment for the word 'victimes': Negative\n",
      "text 5 :\n",
      "Sentiment Polarity for the word 'victimes': -0.80\n",
      "Sentiment for the word 'victimes': Negative\n",
      "text 6 :\n",
      "The word 'violence' does not occur in the input text.\n",
      "text 7 :\n",
      "The word 'violence' does not occur in the input text.\n"
     ]
    }
   ],
   "source": [
    "# Create a TextBlob object\n",
    "Textos=[text1,text2,text3,text4,text5,text6,text7]  \n",
    "x=0\n",
    "for t in Textos:\n",
    "    blob = TextBlob(t)\n",
    "    x=x+1\n",
    "    print(\"text\",x,\":\")\n",
    "    # Find occurrences of the word \"violence\" in the text\n",
    "    word = \"victimes\"\n",
    "    word_count = blob.words.count(word)\n",
    "\n",
    "    if word_count > 0:\n",
    "        # Get the sentiment polarity for the word \"violence\"\n",
    "        word_polarity = sum([blob.sentiment.polarity for word in blob.words if word == \"victimes\"])\n",
    "\n",
    "        # Print the sentiment polarity for the word \"violence\"\n",
    "        print(\"Sentiment Polarity for the word 'victimes': {:.2f}\".format(word_polarity))\n",
    "\n",
    "        # Determine the sentiment based on polarity threshold\n",
    "        if word_polarity > 0:\n",
    "            sentiment = \"Positive\"\n",
    "        elif word_polarity == 0:\n",
    "            sentiment = \"Neutral\"\n",
    "        else:\n",
    "            sentiment = \"Negative\"\n",
    "\n",
    "        # Print the sentiment for the word \"violence\"\n",
    "        print(\"Sentiment for the word 'victimes': {}\".format(sentiment))\n",
    "    else:\n",
    "        print(\"The word 'violence' does not occur in the input text.\")\n"
   ]
  },
  {
   "cell_type": "markdown",
   "metadata": {},
   "source": [
    "When the texts are examined in detail, we can see that the first 3 texts have a positive, while in the rest it is possible to see a negative attitude towards the violence, femmes and victimes simutaneusly (this hoolds for the negative results in all the cases except for the 7th text). The question would be why. In this regard, it is proposed to run the following test: \n",
    "trace the relationships between the words \" violence\" and Femmes\"."
   ]
  },
  {
   "cell_type": "code",
   "execution_count": 165,
   "metadata": {},
   "outputs": [
    {
     "name": "stdout",
     "output_type": "stream",
     "text": [
      "text 1 :\n",
      "par: 27\n",
      "contre: 1\n",
      "text 2 :\n",
      "par: 18\n",
      "contre: 17\n",
      "text 3 :\n",
      "par: 6\n",
      "contre: 2\n",
      "text 4 :\n",
      "par: 7\n",
      "contre: 3\n",
      "text 5 :\n",
      "par: 10\n",
      "contre: 4\n",
      "text 6 :\n",
      "par: 5\n",
      "contre: 1\n",
      "text 7 :\n",
      "par: 6\n",
      "contre: 4\n"
     ]
    }
   ],
   "source": [
    "#Example of linguistic analysis ( stylistics)\n",
    "Textos=[text_1,text_2,text_3,text_4,text_5,text_6,text_7]  \n",
    "x=0\n",
    "for t in Textos:\n",
    "    x=x+1\n",
    "    print(\"text\",x,\":\")\n",
    "    fdist = nltk.FreqDist([w.lower() for w in t])\n",
    "    modals=['par', \"contre\",\"\"]\n",
    "    for m in modals:\n",
    "        print(m+':',fdist[m])"
   ]
  },
  {
   "cell_type": "markdown",
   "metadata": {},
   "source": [
    "In this exercise it was presented to see if the word \"contre\"or \"par\" which may suggest if the violence is executed against or by the women may give any clue. However no relationship was found, may be given that par can be used in much more contexts than the execution of the  violence.\n",
    "In this case, it is shown how sentiment analysis is not a powerful tool for analyzing these specific texts."
   ]
  },
  {
   "cell_type": "markdown",
   "metadata": {},
   "source": [
    "## 4. Conclusions"
   ]
  },
  {
   "cell_type": "markdown",
   "metadata": {},
   "source": [
    "As seen, the  scanning of the text using common NLP technique as tokenization for finding word distribution , the identification of collocations and similarities, a contest analysis and even an a sentiment one showed that the text develops the  relation between the violence and the women. Given the high frequency of the word “ contre” we can assume that the violence is being executed against the female dignity. \n",
    "This can be supported by the presence of the word “ victime” which serves as a substitute of the notion of “violence” itself. \n",
    "These other high frequency words may suggest that this violence is embodied in psychological, cybernetic,sexual or political aggressions and, with a high probability, that this phenomena has a long term occurrence. \n",
    " Finally, there identified several terms linked to the legal consequences of these violences which implied the action of laws, trials, as social support related words .\n",
    "\n",
    "Finally, while the sentiment analysis implies higher cost for data depuration and as so it was not effective for detecting the intentions behind the word” violence” in these texts, it was able to suggest that the text is not talking about a “happy” topic. Nevertheless, the grammatical and lexical analysis permitted us to approach with a higher precision the goal of this texts."
   ]
  }
 ],
 "metadata": {
  "kernelspec": {
   "display_name": "Python 3",
   "language": "python",
   "name": "python3"
  },
  "language_info": {
   "codemirror_mode": {
    "name": "ipython",
    "version": 3
   },
   "file_extension": ".py",
   "mimetype": "text/x-python",
   "name": "python",
   "nbconvert_exporter": "python",
   "pygments_lexer": "ipython3",
   "version": "3.8.5"
  }
 },
 "nbformat": 4,
 "nbformat_minor": 4
}
